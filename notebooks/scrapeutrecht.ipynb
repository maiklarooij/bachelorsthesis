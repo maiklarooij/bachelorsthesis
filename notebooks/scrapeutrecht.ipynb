{
 "cells": [
  {
   "cell_type": "code",
   "execution_count": 3,
   "metadata": {},
   "outputs": [],
   "source": [
    "import requests\n",
    "from bs4 import BeautifulSoup\n",
    "import regex as re\n",
    "from tqdm.notebook import tqdm\n",
    "import pandas as pd\n",
    "import time\n",
    "from math import ceil\n",
    "\n",
    "import wget"
   ]
  },
  {
   "cell_type": "code",
   "execution_count": 16,
   "metadata": {},
   "outputs": [
    {
     "data": {
      "application/vnd.jupyter.widget-view+json": {
       "model_id": "fb0589f287e3440283c6ef35170d70d8",
       "version_major": 2,
       "version_minor": 0
      },
      "text/plain": [
       "  0%|          | 0/94 [00:00<?, ?it/s]"
      ]
     },
     "metadata": {},
     "output_type": "display_data"
    }
   ],
   "source": [
    "def get_wob_links():\n",
    "    wob_links = []\n",
    "    for pagenumber in tqdm(range(1, 95)):\n",
    "        r = requests.get(f'https://www.utrecht.nl/bestuur-en-organisatie/publicaties/openbaar-gemaakte-informatie-na-wob-verzoeken/page/{pagenumber}/')\n",
    "        soup = BeautifulSoup(r.content, 'html.parser')\n",
    "\n",
    "        for a in soup.find(class_='limiter').find_all('a'):\n",
    "            link = a['href']\n",
    "\n",
    "            if 'besluit' in a.string:\n",
    "                wob_links.append(link)\n",
    "    return wob_links\n",
    "\n",
    "wob_links = get_wob_links()"
   ]
  },
  {
   "cell_type": "code",
   "execution_count": 17,
   "metadata": {},
   "outputs": [
    {
     "data": {
      "text/plain": [
       "782"
      ]
     },
     "execution_count": 17,
     "metadata": {},
     "output_type": "execute_result"
    }
   ],
   "source": [
    "len(wob_links)"
   ]
  },
  {
   "cell_type": "code",
   "execution_count": 43,
   "metadata": {},
   "outputs": [],
   "source": [
    "def get_doc_type(doclink):\n",
    "    \"\"\"\n",
    "    Based on the link to a doc, try to identify the type of document.\n",
    "    \"\"\"\n",
    "    prefix = 'https://www.utrecht.nl/fileadmin/uploads/documenten/7.extern/wob'\n",
    "    doclink = re.sub(prefix, '', doclink.lower())\n",
    "    options = {'Inventaris': ['inventaris'], 'Bijlage': ['bijlage', 'document', 'agenda', 'verslag'], 'Besluit': ['besluit', 'beslissing'], 'Verzoek': ['verzoek']}\n",
    "    \n",
    "    for option in options:\n",
    "        for keyword in options[option]:\n",
    "            if keyword in doclink:\n",
    "                return option\n",
    "\n",
    "    return 'Niet herkend'"
   ]
  },
  {
   "cell_type": "code",
   "execution_count": 44,
   "metadata": {},
   "outputs": [],
   "source": [
    "def read_wob(wob_link):\n",
    "    \"\"\"\n",
    "    Reads one wob, returns information in json format.\n",
    "    Really specific for rijksoverheid.nl, because of the unique html tags and information.\n",
    "    \"\"\"\n",
    "    source = 'https://www.utrecht.nl' \n",
    "    r = requests.get(wob_link)\n",
    "    wob_meta = dict()\n",
    "\n",
    "    # Try again in a minute if status code is not OK\n",
    "    if r.status_code != 200:\n",
    "        time.sleep(60)\n",
    "        read_wob(wob_link)\n",
    "\n",
    "    soup = BeautifulSoup(r.content, 'html.parser')\n",
    "\n",
    "    # Try to find metadata of Wob-verzoek\n",
    "    try:\n",
    "        title = soup.find('h1').string.strip()\n",
    "        wob_meta['titel'] = title\n",
    "    except:\n",
    "        pass\n",
    "    try:\n",
    "        intro = soup.find(class_='MsoNoSpacing').string.strip()\n",
    "        wob_meta['beschrijving'] = intro\n",
    "\n",
    "        try:\n",
    "            date = re.search(r'\\d+ [a-zA-Z]+ \\d{4}', intro)\n",
    "            wob_meta['datum_besluit'] = date.group()\n",
    "        except:\n",
    "            pass\n",
    "    except:\n",
    "        pass\n",
    "    \n",
    "    wob_meta['verantwoordelijk'] = 'Gemeente Utrecht'\n",
    "    \n",
    "    # Find all download links for further investigation\n",
    "    download_links = soup.find(class_='limiter').find_all('a')\n",
    "    documenten = []\n",
    "    for id, link in enumerate(download_links):\n",
    "        full_link = source + link['href']\n",
    "        document = dict()\n",
    "        document['document_nr'] = id\n",
    "        document['link'] = full_link\n",
    "        document['bestandsnaam'] = full_link.split('/')[-1]\n",
    "        document['type'] = get_doc_type(full_link)\n",
    "        \n",
    "        documenten.append(document)\n",
    "\n",
    "    wob_meta['documenten'] = documenten\n",
    "    # wob_meta['aantal_pdf'] = len(documenten)\n",
    "    return wob_meta"
   ]
  },
  {
   "cell_type": "code",
   "execution_count": 45,
   "metadata": {},
   "outputs": [
    {
     "name": "stdout",
     "output_type": "stream",
     "text": [
      "Getting Wob links...\n"
     ]
    },
    {
     "data": {
      "application/vnd.jupyter.widget-view+json": {
       "model_id": "54fadb3efc8e441cad0a7e2c3ce26fae",
       "version_major": 2,
       "version_minor": 0
      },
      "text/plain": [
       "  0%|          | 0/94 [00:00<?, ?it/s]"
      ]
     },
     "metadata": {},
     "output_type": "display_data"
    },
    {
     "name": "stdout",
     "output_type": "stream",
     "text": [
      "Extracting Wob metadata...\n"
     ]
    },
    {
     "data": {
      "application/vnd.jupyter.widget-view+json": {
       "model_id": "8fae3723141244fab02d37af845e8822",
       "version_major": 2,
       "version_minor": 0
      },
      "text/plain": [
       "  0%|          | 0/782 [00:00<?, ?it/s]"
      ]
     },
     "metadata": {},
     "output_type": "display_data"
    }
   ],
   "source": [
    "def read_all_wobs():\n",
    "    wobs = []\n",
    "    print(\"Getting Wob links...\")\n",
    "    wob_links = get_wob_links()\n",
    "\n",
    "    print(\"Extracting Wob metadata...\")\n",
    "    for link in tqdm(wob_links):\n",
    "        wobs.append(read_wob(link))\n",
    "\n",
    "    return wobs\n",
    "\n",
    "wob_meta = read_all_wobs()"
   ]
  },
  {
   "cell_type": "code",
   "execution_count": 46,
   "metadata": {},
   "outputs": [],
   "source": [
    "import json\n",
    "\n",
    "with open('wobs_utrecht.json', 'w') as f:\n",
    "    json.dump(wob_meta, f)"
   ]
  },
  {
   "cell_type": "code",
   "execution_count": null,
   "metadata": {},
   "outputs": [],
   "source": []
  }
 ],
 "metadata": {
  "interpreter": {
   "hash": "44818db9d31326dcabf41a90a5a68dcb98abd159235ef8aa2f78d9cc3f591953"
  },
  "kernelspec": {
   "display_name": "Python 3.9.10 64-bit (windows store)",
   "language": "python",
   "name": "python3"
  },
  "language_info": {
   "codemirror_mode": {
    "name": "ipython",
    "version": 3
   },
   "file_extension": ".py",
   "mimetype": "text/x-python",
   "name": "python",
   "nbconvert_exporter": "python",
   "pygments_lexer": "ipython3",
   "version": "3.9.10"
  },
  "orig_nbformat": 4
 },
 "nbformat": 4,
 "nbformat_minor": 2
}
