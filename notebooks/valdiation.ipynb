{
 "cells": [
  {
   "cell_type": "code",
   "execution_count": 95,
   "metadata": {},
   "outputs": [],
   "source": [
    "import jsonschema\n",
    "import json\n",
    "\n",
    "f = open('../data/wob-schema.json')\n",
    "schema = json.load(f)"
   ]
  },
  {
   "cell_type": "code",
   "execution_count": 96,
   "metadata": {},
   "outputs": [],
   "source": [
    "json_doc = open(\"../data/zonneweide_newscheme.json\")\n",
    "publication = json.load(json_doc)"
   ]
  },
  {
   "cell_type": "code",
   "execution_count": 102,
   "metadata": {},
   "outputs": [
    {
     "name": "stdout",
     "output_type": "stream",
     "text": [
      "'identifier' is a required property\n",
      "'date' is a required property\n",
      "'4069' is not of type 'integer'\n"
     ]
    }
   ],
   "source": [
    "v = jsonschema.Draft7Validator(schema)\n",
    "errors = sorted(v.iter_errors(publication), key=lambda e: e.path)\n",
    "\n",
    "for error in errors:\n",
    "    print(error.message)"
   ]
  },
  {
   "cell_type": "code",
   "execution_count": 17,
   "metadata": {},
   "outputs": [
    {
     "name": "stdout",
     "output_type": "stream",
     "text": [
      "Collecting jschonNote: you may need to restart the kernel to use updated packages.\n",
      "\n",
      "  Downloading jschon-0.8.4-py3-none-any.whl (59 kB)\n",
      "     ---------------------------------------- 60.0/60.0 KB 3.1 MB/s eta 0:00:00\n",
      "Collecting rfc3986\n",
      "  Downloading rfc3986-2.0.0-py2.py3-none-any.whl (31 kB)\n",
      "Installing collected packages: rfc3986, jschon\n",
      "Successfully installed jschon-0.8.4 rfc3986-2.0.0\n"
     ]
    }
   ],
   "source": [
    "%pip install jschon"
   ]
  },
  {
   "cell_type": "code",
   "execution_count": 20,
   "metadata": {},
   "outputs": [],
   "source": [
    "from jschon import create_catalog, JSON, JSONSchema"
   ]
  },
  {
   "cell_type": "code",
   "execution_count": 42,
   "metadata": {},
   "outputs": [],
   "source": [
    "create_catalog('2020-12')\n",
    "schema = JSONSchema(schema)\n"
   ]
  }
 ],
 "metadata": {
  "interpreter": {
   "hash": "44818db9d31326dcabf41a90a5a68dcb98abd159235ef8aa2f78d9cc3f591953"
  },
  "kernelspec": {
   "display_name": "Python 3",
   "language": "python",
   "name": "python3"
  },
  "language_info": {
   "codemirror_mode": {
    "name": "ipython",
    "version": 3
   },
   "file_extension": ".py",
   "mimetype": "text/x-python",
   "name": "python",
   "nbconvert_exporter": "python",
   "pygments_lexer": "ipython3",
   "version": "3.9.12"
  }
 },
 "nbformat": 4,
 "nbformat_minor": 2
}
