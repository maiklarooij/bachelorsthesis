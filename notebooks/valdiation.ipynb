{
 "cells": [
  {
   "cell_type": "code",
   "execution_count": 13,
   "metadata": {},
   "outputs": [],
   "source": [
    "from jsonschema import validate, exceptions\n",
    "import json\n",
    "\n",
    "f = open('../data/wob-schema.json')\n",
    "schema = json.load(f)"
   ]
  },
  {
   "cell_type": "code",
   "execution_count": 15,
   "metadata": {},
   "outputs": [],
   "source": [
    "wob = {\n",
    "    \"id\": \"UT-201\",\n",
    "    \"titel\": \"2021-0790 Wob-besluit betreft demonstratie Waku Waku\",\n",
    "    \"verantwoordelijk\": \"Gemeente Utrecht\",\n",
    "    \"datum_ingediend\": \"07-01-2021\",\n",
    "    \"datum_besluit\": \"02-01-2010\",\n",
    "    \"beschrijving\": \"De burgemeester heeft op 2 februari 2022 beslist op een Wob-verzoek van een inwoner. In het Wob-verzoek wordt verzocht om alle documenten in het bezit van de gemeente die betrekking hebben op de demonstraties bij Waku Waku. Tevens wordt er verzocht om alle processtukken van de voorlopige voorziening, waaronder de dagvaarding, bezwaarschrift, verweerschriften, pleitnota's van beide partijen en het proces-verbaal van de politie waar in de zaak naar verwezen wordt.\",\n",
    "    \"beoordeling\": \"Deels openbaar\",\n",
    "    \"verdaagd\": True,\n",
    "    \"thema\": \"Wob-verzoeken vrije tijd\",\n",
    "    \"geografisch_gebied\": \"Utrecht\",\n",
    "    \"documenten\": [\n",
    "        {\n",
    "            \"document_nr\": 1,\n",
    "            \"bestandsnaam\": \"Wob-verzoek.pdf\",\n",
    "            \"bestandstype\": \"PDF\",\n",
    "            \"documenttype\": \"Verzoek\",\n",
    "            \"url\": \"https://www.utrecht.nl/fileadmin/uploads/documenten/7.extern/wob/2021/2021-0790_Waku_Waku/Wob-verzoek.pdf\",\n",
    "            \"paginas\": 3,\n",
    "            \"download_datum\": \"03-03-2022\",\n",
    "            \"scan\": True\n",
    "        },\n",
    "        {\n",
    "            \"document_nr\": 2,\n",
    "            \"bestandsnaam\": \"Wob-besluit.pdf\",\n",
    "            \"bestandstype\": \"PDF\",\n",
    "            \"documenttype\": \"Besluit\",\n",
    "            \"url\": \"https://www.utrecht.nl/fileadmin/uploads/documenten/7.extern/wob/2021/2021-0790_Waku_Waku/Wob-besluit.pdf\",\n",
    "            \"paginas\": 5,\n",
    "            \"download_datum\": \"03-03-2022\"\n",
    "        },\n",
    "        {\n",
    "            \"document_nr\": 3,\n",
    "            \"bestandsnaam\": \"20211019170012_ Gespreksverslag advocate van restauranthouder1.pdf\",\n",
    "            \"bestandstype\": \"PDF\",\n",
    "            \"documenttype\": \"Bijlage\",\n",
    "            \"bijlagetype\": \"Gespreksverslag\",\n",
    "            \"titel\": \"Gespreksverslag advocate restauranthouder\",\n",
    "            \"url\": \"https://www.utrecht.nl/fileadmin/uploads/documenten/7.extern/wob/2021/2021-0790_Waku_Waku/Bijlagen.pdf\",\n",
    "            \"paginas\": 3,\n",
    "            \"download_datum\": \"03-03-2022\",\n",
    "            \"type_vrijgegeven_document\": \"E-Mail\",\n",
    "            \"beoordeling\": \"Reeds openbaar\",\n",
    "            \"weigeringsgrond\": [\n",
    "                \"10.2.e\"\n",
    "            ],\n",
    "            \"vindplaats_reeds_openbaar\": \"hier\",\n",
    "            \"datum\": \"29-09-2021\"\n",
    "        }\n",
    "    ]\n",
    "}"
   ]
  },
  {
   "cell_type": "code",
   "execution_count": 16,
   "metadata": {},
   "outputs": [
    {
     "name": "stdout",
     "output_type": "stream",
     "text": [
      "Wob is all valid :)\n"
     ]
    }
   ],
   "source": [
    "try: \n",
    "    validate(wob, schema)\n",
    "    print(\"Wob is all valid :)\")\n",
    "except exceptions.ValidationError:\n",
    "    print(\"Oh no, invalid Wob!!\")\n",
    "    print(validate(wob, schema))"
   ]
  },
  {
   "cell_type": "code",
   "execution_count": null,
   "metadata": {},
   "outputs": [],
   "source": []
  }
 ],
 "metadata": {
  "interpreter": {
   "hash": "44818db9d31326dcabf41a90a5a68dcb98abd159235ef8aa2f78d9cc3f591953"
  },
  "kernelspec": {
   "display_name": "Python 3.9.10 64-bit (windows store)",
   "language": "python",
   "name": "python3"
  },
  "language_info": {
   "codemirror_mode": {
    "name": "ipython",
    "version": 3
   },
   "file_extension": ".py",
   "mimetype": "text/x-python",
   "name": "python",
   "nbconvert_exporter": "python",
   "pygments_lexer": "ipython3",
   "version": "3.9.10"
  },
  "orig_nbformat": 4
 },
 "nbformat": 4,
 "nbformat_minor": 2
}
