{
 "cells": [
  {
   "cell_type": "code",
   "execution_count": 1,
   "metadata": {},
   "outputs": [],
   "source": [
    "import pandas as pd\n",
    "import pdfplumber\n",
    "import os\n",
    "import numpy as np\n",
    "import re\n",
    "from tqdm.notebook import tqdm\n",
    "from lxml import etree\n",
    "from collections import Counter\n",
    "import camelot\n",
    "import PyPDF2"
   ]
  },
  {
   "cell_type": "markdown",
   "metadata": {},
   "source": [
    "# Preprocessing work"
   ]
  },
  {
   "cell_type": "code",
   "execution_count": 2,
   "metadata": {},
   "outputs": [],
   "source": [
    "ocrdata = pd.read_csv('../data/covid19wob_files_df.tar.xz')"
   ]
  },
  {
   "cell_type": "code",
   "execution_count": 3,
   "metadata": {},
   "outputs": [],
   "source": [
    "def clean_split(text):\n",
    "    \n",
    "    \n",
    "    splitted = re.split('\\W+', text)\n",
    "    cleaned = [word.lower() for word in splitted if word]\n",
    "     \n",
    "    return cleaned\n",
    "\n",
    "def count_words(text):\n",
    "    \n",
    "    if not isinstance(text, str):\n",
    "        return 0\n",
    "\n",
    "    corpus = clean_split(text)\n",
    "    \n",
    "    return len(corpus)\n",
    "\n",
    "def count_characters(text):\n",
    "    \n",
    "    if not isinstance(text, str):\n",
    "        return 0\n",
    "    \n",
    "    corpus = clean_split(text)\n",
    "    \n",
    "    return sum([len(word) for word in corpus])\n",
    "\n",
    "def create_bow(text):\n",
    "    \n",
    "    if not isinstance(text, str):\n",
    "        return {}\n",
    "    \n",
    "    cleaned = clean_split(text)\n",
    "    \n",
    "    return Counter(cleaned)"
   ]
  },
  {
   "cell_type": "code",
   "execution_count": 4,
   "metadata": {},
   "outputs": [],
   "source": [
    "ocrdata['nr_words'] = ocrdata['text'].map(lambda x: count_words(x))\n",
    "ocrdata['nr_chars'] = ocrdata['text'].map(lambda x: count_characters(x))"
   ]
  },
  {
   "cell_type": "code",
   "execution_count": 4,
   "metadata": {},
   "outputs": [],
   "source": [
    "bows_ocr = {}\n",
    "\n",
    "for index, row in ocrdata[:-1].iterrows():\n",
    "    bows_ocr[str(row['name']) + '-' + str(int(row['page']))] = create_bow(row['text'])"
   ]
  },
  {
   "cell_type": "code",
   "execution_count": 5,
   "metadata": {},
   "outputs": [
    {
     "data": {
      "application/vnd.jupyter.widget-view+json": {
       "model_id": "e3001e21499f4c91b972d8f80e7d33da",
       "version_major": 2,
       "version_minor": 0
      },
      "text/plain": [
       "HBox(children=(FloatProgress(value=0.0, max=33905.0), HTML(value='')))"
      ]
     },
     "metadata": {},
     "output_type": "display_data"
    },
    {
     "name": "stdout",
     "output_type": "stream",
     "text": [
      "\n"
     ]
    }
   ],
   "source": [
    "dirpath = '../data/txt/txt//'\n",
    "\n",
    "bows = {}\n",
    "for txtfile in tqdm(os.listdir(dirpath)):\n",
    "\n",
    "    contents = open(dirpath+txtfile, encoding='utf-8').read()\n",
    "\n",
    "    bows[txtfile.strip('.txt')] = create_bow(contents)\n"
   ]
  },
  {
   "cell_type": "code",
   "execution_count": 6,
   "metadata": {},
   "outputs": [],
   "source": [
    "bows_ocr = {key: bows_ocr[key] for key in bows_ocr if key in bows}\n",
    "bows = {key: bows[key] for key in bows if key in bows_ocr}"
   ]
  },
  {
   "cell_type": "markdown",
   "metadata": {},
   "source": [
    "# Let's compare!"
   ]
  },
  {
   "cell_type": "code",
   "execution_count": 7,
   "metadata": {},
   "outputs": [
    {
     "name": "stdout",
     "output_type": "stream",
     "text": [
      "set()\n",
      "28331 28331\n"
     ]
    }
   ],
   "source": [
    "# Should be an empty set!\n",
    "print(set(bows_ocr) - set(bows))\n",
    "\n",
    "print(len(bows_ocr), len(bows))"
   ]
  },
  {
   "cell_type": "code",
   "execution_count": 8,
   "metadata": {},
   "outputs": [
    {
     "name": "stdout",
     "output_type": "stream",
     "text": [
      "Pages with no found words (pdf to text): 6586 (23.25%)\n",
      "Pages with no found words (ocr): 121 (0.43%)\n"
     ]
    }
   ],
   "source": [
    "empty_bags = [bag for bag in bows if len(bows[bag]) == 0]\n",
    "empty_bags_ocr = [bag for bag in bows_ocr if len(bows_ocr[bag]) == 0]\n",
    "\n",
    "print(f'Pages with no found words (pdf to text): {len(empty_bags)} ({round(len(empty_bags) / len(bows) * 100, 2)}%)')\n",
    "print(f'Pages with no found words (ocr): {len(empty_bags_ocr)} ({round(len(empty_bags_ocr) / len(bows_ocr) * 100, 2)}%)')"
   ]
  },
  {
   "cell_type": "markdown",
   "metadata": {},
   "source": [
    "## How many increases/decreases?"
   ]
  },
  {
   "cell_type": "code",
   "execution_count": 9,
   "metadata": {},
   "outputs": [],
   "source": [
    "# Increases\n",
    "increases = {}\n",
    "\n",
    "for page in bows:\n",
    "    \n",
    "    original = sum(bows[page].values())\n",
    "    ocr = sum(bows_ocr[page].values())\n",
    "    \n",
    "    increases[page] = ocr - original\n",
    "    \n",
    "increases_ocr = pd.Series(increases)"
   ]
  },
  {
   "cell_type": "code",
   "execution_count": 13,
   "metadata": {},
   "outputs": [
    {
     "name": "stdout",
     "output_type": "stream",
     "text": [
      "Decreases: 10728 (37.87%)\n",
      "Increases: 13798 (48.7%)\n",
      "Same amount: 3805 (13.43%)\n",
      "Highest increase: 2021. Biggest decrease: -1097\n",
      "Mean increase: 47.5712470438742\n"
     ]
    },
    {
     "data": {
      "text/plain": [
       "e894904cd8de2892fa1143092d638832_bijlage-3-bij-besluit-op-wob-verzoek-over-contacten-bedrijfsleven-coronasteunmaatregelen-41   -1097\n",
       "5d03dc8b8621ea5e53ad6fe7b44c8533_wob-verzoek-inz-coronamaatregelen-op-scholen-16-37                                            -1029\n",
       "5d03dc8b8621ea5e53ad6fe7b44c8533_wob-verzoek-inz-coronamaatregelen-op-scholen-16-33                                            -1014\n",
       "e894904cd8de2892fa1143092d638832_bijlage-2-bij-besluit-op-wob-verzoek-over-contacten-bedrijfsleven-coronasteunmaatregelen-1     -978\n",
       "5d03dc8b8621ea5e53ad6fe7b44c8533_wob-verzoek-inz-coronamaatregelen-op-scholen-14-34                                             -946\n",
       "                                                                                                                                ... \n",
       "40f5564f839324b9af20c295dd261007_wob-documenten-78                                                                              1334\n",
       "8a676a3415d986008b02572cb9310894_besluit-covid-19-suriname-inclusief-inventarisatielijst-11                                     1488\n",
       "51a2c7e46846e5d0f5b66f11f627cea9_samengevoegde-documenten-sierteeltsector-geredigeerd-deel-1-132                                1562\n",
       "b752f2f8f1fc2db6fe146785b4b521a3_03-iao-april-668                                                                               1677\n",
       "855c22f53e49d18948f4620d8eb7fba7_bijlage-1-bij-besluit-op-wob-verzoek-over-reisadvies-voor-china-door-covid-19-60               2021\n",
       "Length: 28331, dtype: int64"
      ]
     },
     "execution_count": 13,
     "metadata": {},
     "output_type": "execute_result"
    }
   ],
   "source": [
    "print(f\"Decreases: {(increases_ocr < 0).sum()} ({round((increases_ocr < 0).mean() * 100, 2)}%)\")\n",
    "print(f\"Increases: {(increases_ocr > 0).sum()} ({round((increases_ocr > 0).mean() * 100, 2)}%)\")\n",
    "print(f\"Same amount: {(increases_ocr == 0).sum()} ({round((increases_ocr == 0).mean() * 100, 2)}%)\")\n",
    "\n",
    "print(f\"Highest increase: {increases_ocr.max()}. Biggest decrease: {increases_ocr.min()}\")\n",
    "print(f\"Mean increase: {increases_ocr.mean()}\")\n",
    "\n",
    "increases_ocr.sort_values()"
   ]
  },
  {
   "cell_type": "markdown",
   "metadata": {},
   "source": [
    "## Subsets"
   ]
  },
  {
   "cell_type": "code",
   "execution_count": 14,
   "metadata": {},
   "outputs": [],
   "source": [
    "subsets = {}\n",
    "\n",
    "for page in bows:\n",
    "    \n",
    "    subsets[page] = set(bows[page].keys()).issubset(set(bows_ocr[page].keys()))\n",
    "    \n",
    "subsets = pd.Series(subsets)"
   ]
  },
  {
   "cell_type": "code",
   "execution_count": 15,
   "metadata": {},
   "outputs": [
    {
     "name": "stdout",
     "output_type": "stream",
     "text": [
      "9204 (32.49%) docs are a subset of the ocr-ed doc\n"
     ]
    }
   ],
   "source": [
    "print(f\"{subsets.sum()} ({round(subsets.sum() / subsets.count() * 100, 2)}%) docs are a subset of the ocr-ed doc\")"
   ]
  },
  {
   "cell_type": "code",
   "execution_count": 21,
   "metadata": {},
   "outputs": [],
   "source": [
    "import dutch_words\n",
    "\n",
    "words = dutch_words.get_ranked()"
   ]
  },
  {
   "cell_type": "code",
   "execution_count": 26,
   "metadata": {},
   "outputs": [
    {
     "data": {
      "application/vnd.jupyter.widget-view+json": {
       "model_id": "8cd48761451947faa50aa89a91eacc7a",
       "version_major": 2,
       "version_minor": 0
      },
      "text/plain": [
       "HBox(children=(FloatProgress(value=0.0, max=28331.0), HTML(value='')))"
      ]
     },
     "metadata": {},
     "output_type": "display_data"
    },
    {
     "name": "stdout",
     "output_type": "stream",
     "text": [
      "\n"
     ]
    }
   ],
   "source": [
    "dutch_words_counter = {}\n",
    "\n",
    "for doc in tqdm(bows):\n",
    "    \n",
    "    ocr_dutch_words = sum([bows_ocr[doc][word] for word in bows_ocr[doc] if word in words])\n",
    "    pdftotext_dutch_words = sum([bows[doc][word] for word in bows[doc] if word in words])\n",
    "\n",
    "    dutch_words_counter[doc] = {'pdftotext': pdftotext_dutch_words, 'ocr': ocr_dutch_words}\n",
    "    \n",
    "dutch_words_df = pd.DataFrame(dutch_words_counter)"
   ]
  },
  {
   "cell_type": "code",
   "execution_count": 27,
   "metadata": {},
   "outputs": [
    {
     "data": {
      "text/html": [
       "<div>\n",
       "<style scoped>\n",
       "    .dataframe tbody tr th:only-of-type {\n",
       "        vertical-align: middle;\n",
       "    }\n",
       "\n",
       "    .dataframe tbody tr th {\n",
       "        vertical-align: top;\n",
       "    }\n",
       "\n",
       "    .dataframe thead th {\n",
       "        text-align: right;\n",
       "    }\n",
       "</style>\n",
       "<table border=\"1\" class=\"dataframe\">\n",
       "  <thead>\n",
       "    <tr style=\"text-align: right;\">\n",
       "      <th></th>\n",
       "      <th>0068ed0b40cca6270f857d2614cc63c0_besluit-1</th>\n",
       "      <th>0068ed0b40cca6270f857d2614cc63c0_besluit-2</th>\n",
       "      <th>0068ed0b40cca6270f857d2614cc63c0_besluit-3</th>\n",
       "      <th>0068ed0b40cca6270f857d2614cc63c0_document-1</th>\n",
       "      <th>0272cdb141e62321341591f0959794a2_derde-deelbesluit-aantal-aanwezigen-in-kerken-1</th>\n",
       "      <th>0272cdb141e62321341591f0959794a2_derde-deelbesluit-aantal-aanwezigen-in-kerken-10</th>\n",
       "      <th>0272cdb141e62321341591f0959794a2_derde-deelbesluit-aantal-aanwezigen-in-kerken-11</th>\n",
       "      <th>0272cdb141e62321341591f0959794a2_derde-deelbesluit-aantal-aanwezigen-in-kerken-2</th>\n",
       "      <th>0272cdb141e62321341591f0959794a2_derde-deelbesluit-aantal-aanwezigen-in-kerken-3</th>\n",
       "      <th>0272cdb141e62321341591f0959794a2_derde-deelbesluit-aantal-aanwezigen-in-kerken-4</th>\n",
       "      <th>...</th>\n",
       "      <th>ec59d18227ae89899be3f69f57879a60_samengevoegde-openbaar-te-maken-stukken-besluit-op-bezwaar-90</th>\n",
       "      <th>ec59d18227ae89899be3f69f57879a60_samengevoegde-openbaar-te-maken-stukken-besluit-op-bezwaar-91</th>\n",
       "      <th>ec59d18227ae89899be3f69f57879a60_samengevoegde-openbaar-te-maken-stukken-besluit-op-bezwaar-92</th>\n",
       "      <th>ec59d18227ae89899be3f69f57879a60_samengevoegde-openbaar-te-maken-stukken-besluit-op-bezwaar-93</th>\n",
       "      <th>ec59d18227ae89899be3f69f57879a60_samengevoegde-openbaar-te-maken-stukken-besluit-op-bezwaar-94</th>\n",
       "      <th>ec59d18227ae89899be3f69f57879a60_samengevoegde-openbaar-te-maken-stukken-besluit-op-bezwaar-95</th>\n",
       "      <th>ec59d18227ae89899be3f69f57879a60_samengevoegde-openbaar-te-maken-stukken-besluit-op-bezwaar-96</th>\n",
       "      <th>ec59d18227ae89899be3f69f57879a60_samengevoegde-openbaar-te-maken-stukken-besluit-op-bezwaar-97</th>\n",
       "      <th>ec59d18227ae89899be3f69f57879a60_samengevoegde-openbaar-te-maken-stukken-besluit-op-bezwaar-98</th>\n",
       "      <th>ec59d18227ae89899be3f69f57879a60_samengevoegde-openbaar-te-maken-stukken-besluit-op-bezwaar-99</th>\n",
       "    </tr>\n",
       "  </thead>\n",
       "  <tbody>\n",
       "    <tr>\n",
       "      <th>pdftotext</th>\n",
       "      <td>212</td>\n",
       "      <td>324</td>\n",
       "      <td>332</td>\n",
       "      <td>70</td>\n",
       "      <td>0</td>\n",
       "      <td>0</td>\n",
       "      <td>234</td>\n",
       "      <td>0</td>\n",
       "      <td>0</td>\n",
       "      <td>0</td>\n",
       "      <td>...</td>\n",
       "      <td>0</td>\n",
       "      <td>0</td>\n",
       "      <td>0</td>\n",
       "      <td>0</td>\n",
       "      <td>0</td>\n",
       "      <td>0</td>\n",
       "      <td>0</td>\n",
       "      <td>0</td>\n",
       "      <td>0</td>\n",
       "      <td>0</td>\n",
       "    </tr>\n",
       "    <tr>\n",
       "      <th>ocr</th>\n",
       "      <td>216</td>\n",
       "      <td>324</td>\n",
       "      <td>329</td>\n",
       "      <td>73</td>\n",
       "      <td>272</td>\n",
       "      <td>119</td>\n",
       "      <td>234</td>\n",
       "      <td>331</td>\n",
       "      <td>439</td>\n",
       "      <td>445</td>\n",
       "      <td>...</td>\n",
       "      <td>91</td>\n",
       "      <td>45</td>\n",
       "      <td>98</td>\n",
       "      <td>64</td>\n",
       "      <td>103</td>\n",
       "      <td>102</td>\n",
       "      <td>100</td>\n",
       "      <td>40</td>\n",
       "      <td>104</td>\n",
       "      <td>58</td>\n",
       "    </tr>\n",
       "  </tbody>\n",
       "</table>\n",
       "<p>2 rows × 28331 columns</p>\n",
       "</div>"
      ],
      "text/plain": [
       "           0068ed0b40cca6270f857d2614cc63c0_besluit-1  \\\n",
       "pdftotext                                         212   \n",
       "ocr                                               216   \n",
       "\n",
       "           0068ed0b40cca6270f857d2614cc63c0_besluit-2  \\\n",
       "pdftotext                                         324   \n",
       "ocr                                               324   \n",
       "\n",
       "           0068ed0b40cca6270f857d2614cc63c0_besluit-3  \\\n",
       "pdftotext                                         332   \n",
       "ocr                                               329   \n",
       "\n",
       "           0068ed0b40cca6270f857d2614cc63c0_document-1  \\\n",
       "pdftotext                                           70   \n",
       "ocr                                                 73   \n",
       "\n",
       "           0272cdb141e62321341591f0959794a2_derde-deelbesluit-aantal-aanwezigen-in-kerken-1  \\\n",
       "pdftotext                                                  0                                  \n",
       "ocr                                                      272                                  \n",
       "\n",
       "           0272cdb141e62321341591f0959794a2_derde-deelbesluit-aantal-aanwezigen-in-kerken-10  \\\n",
       "pdftotext                                                  0                                   \n",
       "ocr                                                      119                                   \n",
       "\n",
       "           0272cdb141e62321341591f0959794a2_derde-deelbesluit-aantal-aanwezigen-in-kerken-11  \\\n",
       "pdftotext                                                234                                   \n",
       "ocr                                                      234                                   \n",
       "\n",
       "           0272cdb141e62321341591f0959794a2_derde-deelbesluit-aantal-aanwezigen-in-kerken-2  \\\n",
       "pdftotext                                                  0                                  \n",
       "ocr                                                      331                                  \n",
       "\n",
       "           0272cdb141e62321341591f0959794a2_derde-deelbesluit-aantal-aanwezigen-in-kerken-3  \\\n",
       "pdftotext                                                  0                                  \n",
       "ocr                                                      439                                  \n",
       "\n",
       "           0272cdb141e62321341591f0959794a2_derde-deelbesluit-aantal-aanwezigen-in-kerken-4  \\\n",
       "pdftotext                                                  0                                  \n",
       "ocr                                                      445                                  \n",
       "\n",
       "           ...  \\\n",
       "pdftotext  ...   \n",
       "ocr        ...   \n",
       "\n",
       "           ec59d18227ae89899be3f69f57879a60_samengevoegde-openbaar-te-maken-stukken-besluit-op-bezwaar-90  \\\n",
       "pdftotext                                                  0                                                \n",
       "ocr                                                       91                                                \n",
       "\n",
       "           ec59d18227ae89899be3f69f57879a60_samengevoegde-openbaar-te-maken-stukken-besluit-op-bezwaar-91  \\\n",
       "pdftotext                                                  0                                                \n",
       "ocr                                                       45                                                \n",
       "\n",
       "           ec59d18227ae89899be3f69f57879a60_samengevoegde-openbaar-te-maken-stukken-besluit-op-bezwaar-92  \\\n",
       "pdftotext                                                  0                                                \n",
       "ocr                                                       98                                                \n",
       "\n",
       "           ec59d18227ae89899be3f69f57879a60_samengevoegde-openbaar-te-maken-stukken-besluit-op-bezwaar-93  \\\n",
       "pdftotext                                                  0                                                \n",
       "ocr                                                       64                                                \n",
       "\n",
       "           ec59d18227ae89899be3f69f57879a60_samengevoegde-openbaar-te-maken-stukken-besluit-op-bezwaar-94  \\\n",
       "pdftotext                                                  0                                                \n",
       "ocr                                                      103                                                \n",
       "\n",
       "           ec59d18227ae89899be3f69f57879a60_samengevoegde-openbaar-te-maken-stukken-besluit-op-bezwaar-95  \\\n",
       "pdftotext                                                  0                                                \n",
       "ocr                                                      102                                                \n",
       "\n",
       "           ec59d18227ae89899be3f69f57879a60_samengevoegde-openbaar-te-maken-stukken-besluit-op-bezwaar-96  \\\n",
       "pdftotext                                                  0                                                \n",
       "ocr                                                      100                                                \n",
       "\n",
       "           ec59d18227ae89899be3f69f57879a60_samengevoegde-openbaar-te-maken-stukken-besluit-op-bezwaar-97  \\\n",
       "pdftotext                                                  0                                                \n",
       "ocr                                                       40                                                \n",
       "\n",
       "           ec59d18227ae89899be3f69f57879a60_samengevoegde-openbaar-te-maken-stukken-besluit-op-bezwaar-98  \\\n",
       "pdftotext                                                  0                                                \n",
       "ocr                                                      104                                                \n",
       "\n",
       "           ec59d18227ae89899be3f69f57879a60_samengevoegde-openbaar-te-maken-stukken-besluit-op-bezwaar-99  \n",
       "pdftotext                                                  0                                               \n",
       "ocr                                                       58                                               \n",
       "\n",
       "[2 rows x 28331 columns]"
      ]
     },
     "execution_count": 27,
     "metadata": {},
     "output_type": "execute_result"
    }
   ],
   "source": [
    "dutch_words_df.head()"
   ]
  },
  {
   "cell_type": "code",
   "execution_count": null,
   "metadata": {},
   "outputs": [],
   "source": []
  }
 ],
 "metadata": {
  "kernelspec": {
   "display_name": "Python 3",
   "language": "python",
   "name": "python3"
  },
  "language_info": {
   "codemirror_mode": {
    "name": "ipython",
    "version": 3
   },
   "file_extension": ".py",
   "mimetype": "text/x-python",
   "name": "python",
   "nbconvert_exporter": "python",
   "pygments_lexer": "ipython3",
   "version": "3.7.4"
  }
 },
 "nbformat": 4,
 "nbformat_minor": 2
}
