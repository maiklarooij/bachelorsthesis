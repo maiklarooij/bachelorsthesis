{
 "cells": [
  {
   "cell_type": "code",
   "execution_count": 12,
   "metadata": {},
   "outputs": [],
   "source": [
    "import requests\n",
    "from bs4 import BeautifulSoup\n",
    "import regex as re\n",
    "from tqdm.notebook import tqdm\n",
    "import pandas as pd\n",
    "import time\n",
    "from math import ceil\n",
    "\n",
    "import wget\n",
    "import os"
   ]
  },
  {
   "cell_type": "markdown",
   "metadata": {},
   "source": [
    "## Ophalen links naar alle Wob-pagina's\n",
    "\n",
    "Hiervoor is een webpagina nodig en hoeveel pagina's we willen doorzoeken op deze pagina. Helaas heeft de rijksoverheid een limiet van 50 pagina's, waardoor we een verdeling moeten maken op ministerie om per ministerie de Wob-links op te halen."
   ]
  },
  {
   "cell_type": "code",
   "execution_count": 13,
   "metadata": {},
   "outputs": [],
   "source": [
    "def get_ministeries():\n",
    "    \"\"\"\n",
    "    Returns all scraped ministeries with their wob-count (how many wobs?)\n",
    "    \"\"\"\n",
    "    docs_link = 'https://www.rijksoverheid.nl/documenten'\n",
    "    r = requests.get(docs_link)\n",
    "    soup = BeautifulSoup(r.content, 'html.parser')\n",
    "\n",
    "    ministeries_search = soup.find_all('option', value=re.compile('Ministerie'))\n",
    "\n",
    "    ministeries = []\n",
    "    for ministerie in ministeries_search:\n",
    "        ministeries.append(ministerie.string.strip())\n",
    "\n",
    "    ministeries_count = []\n",
    "    search_link = \"https://www.rijksoverheid.nl/documenten?type=Wob-verzoek\"\n",
    "    for ministerie in ministeries:\n",
    "        search_link_min = search_link + f'&onderdeel={ministerie.replace(\" \", \"+\")}'\n",
    "        r = requests.get(search_link_min)\n",
    "        soup = BeautifulSoup(r.content, 'html.parser')\n",
    "        N = soup.find(class_='summary').span.string\n",
    "        \n",
    "        ministeries_count.append((ministerie, int(N)))\n",
    "\n",
    "    return ministeries_count"
   ]
  },
  {
   "cell_type": "code",
   "execution_count": 14,
   "metadata": {},
   "outputs": [],
   "source": [
    "def get_wob_links(webpage, number_of_pages):\n",
    "    \"\"\"\n",
    "    Retrieves all links to pages with a Wob-verzoek.\n",
    "    Give webpage link and number of pages to search.\n",
    "    \"\"\"\n",
    "    source = 'https://www.rijksoverheid.nl'\n",
    "    wob_links = []\n",
    "\n",
    "    for i in range(1, number_of_pages + 1):\n",
    "        r = requests.get(f'{webpage}{i}')\n",
    "\n",
    "        # Find publications\n",
    "        soup = BeautifulSoup(r.content, 'html.parser')\n",
    "        publications = soup.find_all(class_=\"publication\")\n",
    "\n",
    "        for publication in publications:\n",
    "            wob_link = source + publication['href']\n",
    "            wob_links.append(wob_link)\n",
    "\n",
    "    return wob_links"
   ]
  },
  {
   "cell_type": "markdown",
   "metadata": {},
   "source": [
    "## Ophalen informatie uit Wob-links\n",
    "\n",
    "Nadat er een lijst is gemaakt, kunnen we informatie gaan halen uit deze links. Dit is gedaan door te kijken in de source code van deze pagina's en op basis hiervan de metadata te verzamelen."
   ]
  },
  {
   "cell_type": "code",
   "execution_count": 15,
   "metadata": {},
   "outputs": [],
   "source": [
    "def get_doc_type(doclink):\n",
    "    \"\"\"\n",
    "    Based on the link to a doc, try to identify the type of document.\n",
    "    \"\"\"\n",
    "    prefix = 'https://www.rijksoverheid.nl/binaries/rijksoverheid/documenten/wob-verzoeken'\n",
    "    doclink = doclink.lower().strip(prefix)\n",
    "    \n",
    "    options = {'Inventaris': ['inventaris'], 'Bijlage': ['bijlage', 'document', 'agenda', 'verslag'], 'Besluit': ['besluit', 'beslissing']}\n",
    "    \n",
    "    for option in options:\n",
    "        for keyword in options[option]:\n",
    "            if keyword in doclink:\n",
    "                return option\n",
    "\n",
    "    return 'Niet herkend'"
   ]
  },
  {
   "cell_type": "code",
   "execution_count": 16,
   "metadata": {},
   "outputs": [
    {
     "ename": "AttributeError",
     "evalue": "module 're' has no attribute 'search_all'",
     "output_type": "error",
     "traceback": [
      "\u001b[1;31m---------------------------------------------------------------------------\u001b[0m",
      "\u001b[1;31mAttributeError\u001b[0m                            Traceback (most recent call last)",
      "\u001b[1;32m~\\AppData\\Local\\Temp/ipykernel_20940/2989904351.py\u001b[0m in \u001b[0;36m<module>\u001b[1;34m\u001b[0m\n\u001b[0;32m      1\u001b[0m \u001b[1;32mimport\u001b[0m \u001b[0mre\u001b[0m\u001b[1;33m\u001b[0m\u001b[1;33m\u001b[0m\u001b[0m\n\u001b[1;32m----> 2\u001b[1;33m \u001b[0mre\u001b[0m\u001b[1;33m.\u001b[0m\u001b[0msearch_all\u001b[0m\u001b[1;33m(\u001b[0m\u001b[1;34mr\"\\| (\\d+) [a-z]*\"\u001b[0m\u001b[1;33m,\u001b[0m \u001b[1;34m\"PDF document | 3 pagina's | 842 kB\"\u001b[0m\u001b[1;33m)\u001b[0m\u001b[1;33m\u001b[0m\u001b[1;33m\u001b[0m\u001b[0m\n\u001b[0m",
      "\u001b[1;31mAttributeError\u001b[0m: module 're' has no attribute 'search_all'"
     ]
    }
   ],
   "source": [
    "import re\n",
    "re.search_all(r\"\\| (\\d+) [a-z]*\", \"PDF document | 3 pagina's | 842 kB\")"
   ]
  },
  {
   "cell_type": "code",
   "execution_count": 21,
   "metadata": {},
   "outputs": [
    {
     "data": {
      "text/plain": [
       "{'url': 'https://www.rijksoverheid.nl/documenten/wob-verzoeken/2022/01/27/besluit-op-wob-verzoek-inzake-pegasus',\n",
       " 'titel': 'Besluit op Wob-verzoek inzake Pegasus',\n",
       " 'beschrijving': 'De minister van Justitie en Veiligheid heeft op 27 januari 2022 een besluit genomen op een verzoek in het kader van de Wet openbaarheid van bestuur. Het besluit heeft betrekking op informatie inzake de\\xa0 NSO Group en Pegasus software.',\n",
       " 'verantwoordelijk': 'Ministerie van Justitie en Veiligheid',\n",
       " 'datum_besluit': '2022-01-27',\n",
       " 'documenten': [{'document_nr': 0,\n",
       "   'url': 'https://www.rijksoverheid.nl/binaries/rijksoverheid/documenten/wob-verzoeken/2022/01/27/besluit-op-wob-verzoek-inzake-pegasus/Besluit+op+Wob+-verzoek+inzake+Pegasus.pdf',\n",
       "   'bestandsnaam': 'Besluit+op+Wob+-verzoek+inzake+Pegasus.pdf',\n",
       "   'bestandstype': 'pdf',\n",
       "   'type': 'Besluit',\n",
       "   'titel': 'Besluit op Wob -verzoek inzake Pegasus',\n",
       "   'aantal_paginas': 6,\n",
       "   'grootte': '2 MB'},\n",
       "  {'document_nr': 1,\n",
       "   'url': 'https://www.rijksoverheid.nl/binaries/rijksoverheid/documenten/wob-verzoeken/2022/01/27/besluit-op-wob-verzoek-inzake-pegasus/Bijlage+1+Relevante+artikelen+uit+de+Wob.pdf',\n",
       "   'bestandsnaam': 'Bijlage+1+Relevante+artikelen+uit+de+Wob.pdf',\n",
       "   'bestandstype': 'pdf',\n",
       "   'type': 'Bijlage',\n",
       "   'titel': 'Bijlage 1 Relevante artikelen uit de Wob',\n",
       "   'aantal_paginas': 2,\n",
       "   'grootte': '640 kB'},\n",
       "  {'document_nr': 2,\n",
       "   'url': 'https://www.rijksoverheid.nl/binaries/rijksoverheid/documenten/wob-verzoeken/2022/01/27/besluit-op-wob-verzoek-inzake-pegasus/Bijlage+2A+NCSC+inventarislijst+Wob+Pegasus.pdf',\n",
       "   'bestandsnaam': 'Bijlage+2A+NCSC+inventarislijst+Wob+Pegasus.pdf',\n",
       "   'bestandstype': 'pdf',\n",
       "   'type': 'Inventaris',\n",
       "   'titel': 'Bijlage 2A NCSC inventarislijst Wob Pegasus',\n",
       "   'aantal_paginas': 6,\n",
       "   'grootte': '2 MB'},\n",
       "  {'document_nr': 3,\n",
       "   'url': 'https://www.rijksoverheid.nl/binaries/rijksoverheid/documenten/wob-verzoeken/2022/01/27/besluit-op-wob-verzoek-inzake-pegasus/Bijlage+2B+NCTV+inventarislijst+Wob+Pegasus.pdf',\n",
       "   'bestandsnaam': 'Bijlage+2B+NCTV+inventarislijst+Wob+Pegasus.pdf',\n",
       "   'bestandstype': 'pdf',\n",
       "   'type': 'Inventaris',\n",
       "   'titel': 'Bijlage 2B NCTV inventarislijst Wob Pegasus',\n",
       "   'aantal_paginas': 1,\n",
       "   'grootte': '452 kB'},\n",
       "  {'document_nr': 4,\n",
       "   'url': 'https://www.rijksoverheid.nl/binaries/rijksoverheid/documenten/wob-verzoeken/2022/01/27/besluit-op-wob-verzoek-inzake-pegasus/Bijlage+3A+documenten+NCSC.pdf',\n",
       "   'bestandsnaam': 'Bijlage+3A+documenten+NCSC.pdf',\n",
       "   'bestandstype': 'pdf',\n",
       "   'type': 'Bijlage',\n",
       "   'titel': 'Bijlage 3A documenten NCSC',\n",
       "   'aantal_paginas': 77,\n",
       "   'grootte': '6 MB'},\n",
       "  {'document_nr': 5,\n",
       "   'url': 'https://www.rijksoverheid.nl/binaries/rijksoverheid/documenten/wob-verzoeken/2022/01/27/besluit-op-wob-verzoek-inzake-pegasus/Bijlage+3B+documenten+NCTV.pdf',\n",
       "   'bestandsnaam': 'Bijlage+3B+documenten+NCTV.pdf',\n",
       "   'bestandstype': 'pdf',\n",
       "   'type': 'Bijlage',\n",
       "   'titel': 'Bijlage 3B documenten NCTV',\n",
       "   'aantal_paginas': 34,\n",
       "   'grootte': '8 MB'}],\n",
       " 'aantal_documenten': 6}"
      ]
     },
     "execution_count": 21,
     "metadata": {},
     "output_type": "execute_result"
    }
   ],
   "source": [
    "def read_wob(wob_link, wob_id):\n",
    "    \"\"\"\n",
    "    Reads one wob, returns information in json format.\n",
    "    Really specific for rijksoverheid.nl, because of the unique html tags and information.\n",
    "    \"\"\"\n",
    "    source = 'https://www.rijksoverheid.nl'\n",
    "    r = requests.get(wob_link)\n",
    "    wob_meta = dict()\n",
    "\n",
    "    # Try again in a minute if status code is not OK\n",
    "    if r.status_code != 200:\n",
    "        time.sleep(60)\n",
    "        read_wob(wob_link)\n",
    "\n",
    "    soup = BeautifulSoup(r.content, 'html.parser')\n",
    "\n",
    "    wob_meta['url'] = wob_link\n",
    "    wob_meta['wob_id'] = wob_id\n",
    "\n",
    "    # Try to find metadata of Wob-verzoek\n",
    "    try:\n",
    "        title = soup.find('h1').string.strip()\n",
    "        wob_meta['titel'] = title\n",
    "    except:\n",
    "        pass\n",
    "    try:\n",
    "        intro = soup.find(class_='intro').string.strip()\n",
    "        wob_meta['beschrijving'] = intro\n",
    "    except:\n",
    "        pass\n",
    "    try:\n",
    "        responsible = soup.find(class_='brick belongsTo').find('a').string.strip()\n",
    "        wob_meta['verantwoordelijk'] = responsible\n",
    "    except:\n",
    "        pass\n",
    "    \n",
    "    # Extract date from link\n",
    "    try:\n",
    "        date = re.search(r'\\d{4}\\/\\d{2}\\/\\d{2}', wob_link).group()\n",
    "        wob_meta['datum_besluit'] = re.sub(r'/', '-', date)\n",
    "    except:\n",
    "        pass\n",
    "    \n",
    "    # Find all download links for further investigation\n",
    "    download_links = soup.find_all(class_='download-chunk pdf')\n",
    "    documenten = []\n",
    "    for id, link in enumerate(download_links):\n",
    "        full_link = source + link['href']\n",
    "        document = dict()\n",
    "        document['document_id'] = f\"{str(wob_id)}-{str(id)}\"\n",
    "        document['url'] = full_link\n",
    "        document['bestandsnaam'] = full_link.split('/')[-1]\n",
    "        document['bestandstype'] = full_link.split('/')[-1].split('.')[-1]\n",
    "        document['documenttype'] = get_doc_type(full_link)\n",
    "        try:\n",
    "            document['titel'] = re.search(r\"'(.*)'\", link.find('span').string.strip()).group(1)\n",
    "        except:\n",
    "            pass\n",
    "        try:\n",
    "            document['aantal_paginas'] = int(re.search(r\"\\| (\\d+) .* \\|\", link.find('p').string.strip()).group(1))\n",
    "        except:\n",
    "            pass\n",
    "        try:\n",
    "            document['grootte'] = re.search(r\"\\d+ (?!pagina).*\", link.find('p').string.strip()).group()\n",
    "        except:\n",
    "            pass\n",
    "        \n",
    "        documenten.append(document)\n",
    "\n",
    "    wob_meta['documenten'] = documenten\n",
    "    wob_meta['aantal_documenten'] = len(documenten)\n",
    "    return wob_meta\n",
    "\n",
    "# Example\n",
    "read_wob('https://www.rijksoverheid.nl/documenten/wob-verzoeken/2022/01/27/besluit-op-wob-verzoek-inzake-pegasus')"
   ]
  },
  {
   "cell_type": "markdown",
   "metadata": {},
   "source": [
    "## Combineren: in één keer alle Wobs lezen!\n",
    "\n",
    "Onderstaande functie combineert alles:\n",
    "- Het ophalen van ministeries en het aantal Wobs\n",
    "- Per ministerie het aantal pagina's doorzoeken (aantal Wobs / 10, want 10 Wobs per pagina) en vinden van links\n",
    "- Per link een dict met metadata maken"
   ]
  },
  {
   "cell_type": "code",
   "execution_count": 9,
   "metadata": {},
   "outputs": [
    {
     "name": "stdout",
     "output_type": "stream",
     "text": [
      "Extracting links to Wob-pages...\n"
     ]
    },
    {
     "data": {
      "application/vnd.jupyter.widget-view+json": {
       "model_id": "0453d0a6f2414d5489a801bccdde0205",
       "version_major": 2,
       "version_minor": 0
      },
      "text/plain": [
       "  0%|          | 0/12 [00:00<?, ?it/s]"
      ]
     },
     "metadata": {},
     "output_type": "display_data"
    },
    {
     "name": "stdout",
     "output_type": "stream",
     "text": [
      "Reading Wobs, extracting metadata...\n"
     ]
    },
    {
     "data": {
      "application/vnd.jupyter.widget-view+json": {
       "model_id": "ecc86ac76530489a8116e46a2a2bb2e1",
       "version_major": 2,
       "version_minor": 0
      },
      "text/plain": [
       "  0%|          | 0/2751 [00:00<?, ?it/s]"
      ]
     },
     "metadata": {},
     "output_type": "display_data"
    },
    {
     "name": "stdout",
     "output_type": "stream",
     "text": [
      "Status code is 429. Trying again in a minute...\n",
      "Status code is 429. Trying again in a minute...\n",
      "Status code is 429. Trying again in a minute...\n",
      "Status code is 429. Trying again in a minute...\n",
      "Status code is 429. Trying again in a minute...\n",
      "Status code is 429. Trying again in a minute...\n",
      "Status code is 429. Trying again in a minute...\n",
      "Status code is 429. Trying again in a minute...\n",
      "Status code is 429. Trying again in a minute...\n",
      "Status code is 429. Trying again in a minute...\n",
      "Status code is 429. Trying again in a minute...\n",
      "Status code is 429. Trying again in a minute...\n",
      "Status code is 429. Trying again in a minute...\n",
      "Status code is 429. Trying again in a minute...\n",
      "Status code is 429. Trying again in a minute...\n",
      "Status code is 429. Trying again in a minute...\n",
      "Status code is 429. Trying again in a minute...\n",
      "Status code is 429. Trying again in a minute...\n"
     ]
    }
   ],
   "source": [
    "def read_all_wobs():\n",
    "\n",
    "    search_link = \"https://www.rijksoverheid.nl/documenten?type=Wob-verzoek\"\n",
    "    ministeries = get_ministeries()\n",
    "\n",
    "    print(\"Extracting links to Wob-pages...\")\n",
    "    wob_links = []\n",
    "    for ministerie, number_wobs in tqdm(ministeries):\n",
    "        pages = ceil(number_wobs / 10)\n",
    "\n",
    "        search_link_min = search_link + f'&onderdeel={ministerie.replace(\" \", \"+\")}' + '&pagina='\n",
    "        min_wobs = get_wob_links(search_link_min, pages)\n",
    "        for wob in min_wobs:\n",
    "            wob_links.append(wob)\n",
    "\n",
    "    print(\"Reading Wobs, extracting metadata...\")\n",
    "    wob_meta = []\n",
    "    for id, wob in tqdm(enumerate(wob_links)):\n",
    "        wob_meta.append(read_wob(wob, id))\n",
    "\n",
    "    return wob_meta\n",
    "\n",
    "wob_meta = read_all_wobs()"
   ]
  },
  {
   "cell_type": "code",
   "execution_count": 10,
   "metadata": {},
   "outputs": [],
   "source": [
    "import json\n",
    "\n",
    "with open('wobs_rijksoverheid.json', 'w') as f:\n",
    "    json.dump(wob_meta, f)"
   ]
  },
  {
   "cell_type": "markdown",
   "metadata": {},
   "source": [
    "## Inventarissen\n",
    "\n",
    "Code om op basis van de opgehaalde informatie alle geïdentificeerde inventarissen op te halen."
   ]
  },
  {
   "cell_type": "code",
   "execution_count": 37,
   "metadata": {},
   "outputs": [
    {
     "data": {
      "application/vnd.jupyter.widget-view+json": {
       "model_id": "e7992dc988f84487a6e5ad40f010fe0b",
       "version_major": 2,
       "version_minor": 0
      },
      "text/plain": [
       "0it [00:00, ?it/s]"
      ]
     },
     "metadata": {},
     "output_type": "display_data"
    }
   ],
   "source": [
    "def download_doc(doc_link, export_dir):\n",
    "\n",
    "    try:\n",
    "        wget.download(doc_link, export_dir)\n",
    "    except:\n",
    "        time.sleep(60)\n",
    "        download_doc(doc_link, export_dir)\n",
    "\n",
    "def get_documents(csv_file, export_dir):\n",
    "    \"\"\"\n",
    "    Extracts all Inventaris documents\n",
    "    \"\"\"\n",
    "    df = pd.read_csv(csv_file)\n",
    "    df['pdfs'] = df['pdfs'].map(lambda x: x.strip(\"][\").split(', '))\n",
    "\n",
    "    for idx, wob in tqdm(df.iterrows()):  \n",
    "\n",
    "        date_string = str(wob['datum']).replace('/', '-')\n",
    "        \n",
    "        for doc_link in wob['pdfs']:\n",
    "            doc_link = doc_link.strip(\"'\")\n",
    "            doc_type = get_doc_type(doc_link)\n",
    "\n",
    "            if doc_type == 'Inventaris':\n",
    "                # try:\n",
    "                #     os.makedirs(f\"{export_dir}/{wob['titel']} {date_string}/{doc_type}\")\n",
    "                # except FileExistsError:\n",
    "                #     pass\n",
    "                    \n",
    "                download_doc(doc_link, export_dir)\n",
    "                \n",
    "\n",
    "get_documents('../data/wobs_rijksoverheid.csv', 'D:/School/wobs')"
   ]
  }
 ],
 "metadata": {
  "interpreter": {
   "hash": "44818db9d31326dcabf41a90a5a68dcb98abd159235ef8aa2f78d9cc3f591953"
  },
  "kernelspec": {
   "display_name": "Python 3",
   "language": "python",
   "name": "python3"
  },
  "language_info": {
   "codemirror_mode": {
    "name": "ipython",
    "version": 3
   },
   "file_extension": ".py",
   "mimetype": "text/x-python",
   "name": "python",
   "nbconvert_exporter": "python",
   "pygments_lexer": "ipython3",
   "version": "3.9.12"
  }
 },
 "nbformat": 4,
 "nbformat_minor": 2
}
