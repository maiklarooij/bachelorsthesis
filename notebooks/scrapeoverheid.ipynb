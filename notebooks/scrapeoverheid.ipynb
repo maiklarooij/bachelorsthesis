{
 "cells": [
  {
   "cell_type": "code",
   "execution_count": 3,
   "metadata": {},
   "outputs": [],
   "source": [
    "import requests\n",
    "from bs4 import BeautifulSoup\n",
    "import regex as re\n",
    "from tqdm.notebook import tqdm\n",
    "import pandas as pd\n",
    "import time\n",
    "from math import ceil\n",
    "\n",
    "import wget\n",
    "import os"
   ]
  },
  {
   "cell_type": "code",
   "execution_count": 2,
   "metadata": {},
   "outputs": [],
   "source": [
    "def get_wob_links(webpage, number_of_pages):\n",
    "    \"\"\"\n",
    "    Retrieves all links to pages with a Wob-verzoek.\n",
    "    Give webpage link and number of pages to search.\n",
    "    \"\"\"\n",
    "    source = 'https://www.rijksoverheid.nl'\n",
    "    wob_links = []\n",
    "\n",
    "    for i in range(1, number_of_pages + 1):\n",
    "        r = requests.get(f'{webpage}{i}')\n",
    "\n",
    "        # Find publications\n",
    "        soup = BeautifulSoup(r.content, 'html.parser')\n",
    "        publications = soup.find_all(class_=\"publication\")\n",
    "\n",
    "        for publication in publications:\n",
    "            wob_link = source + publication['href']\n",
    "            wob_links.append(wob_link)\n",
    "\n",
    "    return wob_links"
   ]
  },
  {
   "cell_type": "code",
   "execution_count": 4,
   "metadata": {},
   "outputs": [
    {
     "data": {
      "text/plain": [
       "{'link': 'https://www.rijksoverheid.nl/documenten/wob-verzoeken/2022/02/15/besluit-wob-verzoek-correspondentie-kamerbrief-voortgang-stikstofproblematiek',\n",
       " 'titel': 'Besluit Wob-verzoek correspondentie Kamerbrief voortgang stikstofproblematiek',\n",
       " 'intro': 'Besluit op een verzoek om documenten over de afstemming rondom de Kamerbrief van 12 november 2021 over de voortgang van de stikstofproblematiek. Het gaat om een verzoek op basis van de Wet openbaarheid van bestuur (Wob).',\n",
       " 'datum': '2022/02/15',\n",
       " 'verantwoordelijk': 'Ministerie van Landbouw, Natuur en Voedselkwaliteit',\n",
       " 'pdfs': ['https://www.rijksoverheid.nl/binaries/rijksoverheid/documenten/wob-verzoeken/2022/02/15/besluit-wob-verzoek-correspondentie-kamerbrief-voortgang-stikstofproblematiek/besluit-wob-kamerbrief-stikstofproblematiek.pdf',\n",
       "  'https://www.rijksoverheid.nl/binaries/rijksoverheid/documenten/wob-verzoeken/2022/02/15/besluit-wob-verzoek-correspondentie-kamerbrief-voortgang-stikstofproblematiek/besluit-wob-kamerbrief-stikstofproblematiek-inventaris.pdf',\n",
       "  'https://www.rijksoverheid.nl/binaries/rijksoverheid/documenten/wob-verzoeken/2022/02/15/besluit-wob-verzoek-correspondentie-kamerbrief-voortgang-stikstofproblematiek/besluit-wob-kamerbrief-stikstofproblematiek-documenten.pdf']}"
      ]
     },
     "execution_count": 4,
     "metadata": {},
     "output_type": "execute_result"
    }
   ],
   "source": [
    "def read_wob(wob_link):\n",
    "    \"\"\"\n",
    "    Reads one wob, returns information\n",
    "    \"\"\"\n",
    "    source = 'https://www.rijksoverheid.nl'\n",
    "    r = requests.get(wob_link)\n",
    "\n",
    "    # Try again in a minute if status code is not OK\n",
    "    if r.status_code != 200:\n",
    "        print(f\"Status code is {r.status_code}. Trying again in a minute...\")\n",
    "        time.sleep(60)\n",
    "        read_wob(wob_link)\n",
    "\n",
    "    soup = BeautifulSoup(r.content, 'html.parser')\n",
    "\n",
    "    # Try to find metadata of Wob-verzoek\n",
    "    try:\n",
    "        title = soup.find('h1').string.strip()\n",
    "    except:\n",
    "        title = None\n",
    "    try:\n",
    "        intro = soup.find(class_='intro').string.strip()\n",
    "    except:\n",
    "        intro = None\n",
    "    try:\n",
    "        responsible = soup.find(class_='brick belongsTo').find('a').string.strip()\n",
    "    except:\n",
    "        responsible = None\n",
    "    \n",
    "    # Extract date from link\n",
    "    try:\n",
    "        date = re.search(r'\\d{4}\\/\\d{2}\\/\\d{2}', wob_link).group()\n",
    "    except:\n",
    "        date = None\n",
    "    \n",
    "    # Find all download links for further investigation\n",
    "    download_links = soup.find_all(class_='download-chunk pdf')\n",
    "    all_pdf_links = []\n",
    "    for link in download_links:\n",
    "        all_pdf_links.append(source + link['href'])\n",
    "\n",
    "    return {'link': wob_link, 'titel': title, 'intro': intro, 'datum': date, 'verantwoordelijk': responsible, 'pdfs': all_pdf_links}\n",
    "\n",
    "read_wob('https://www.rijksoverheid.nl/documenten/wob-verzoeken/2022/02/15/besluit-wob-verzoek-correspondentie-kamerbrief-voortgang-stikstofproblematiek')"
   ]
  },
  {
   "cell_type": "code",
   "execution_count": 5,
   "metadata": {},
   "outputs": [],
   "source": [
    "def get_ministeries():\n",
    "    \"\"\"\n",
    "    Returns all scraped ministeries with their wob-count\n",
    "    \"\"\"\n",
    "    docs_link = 'https://www.rijksoverheid.nl/documenten'\n",
    "    r = requests.get(docs_link)\n",
    "    soup = BeautifulSoup(r.content, 'html.parser')\n",
    "\n",
    "    ministeries_search = soup.find_all('option', value=re.compile('Ministerie'))\n",
    "\n",
    "    ministeries = []\n",
    "    for ministerie in ministeries_search:\n",
    "        ministeries.append(ministerie.string.strip())\n",
    "\n",
    "    ministeries_count = []\n",
    "    search_link = \"https://www.rijksoverheid.nl/documenten?type=Wob-verzoek\"\n",
    "    for ministerie in ministeries:\n",
    "        search_link_min = search_link + f'&onderdeel={ministerie.replace(\" \", \"+\")}'\n",
    "        r = requests.get(search_link_min)\n",
    "        soup = BeautifulSoup(r.content, 'html.parser')\n",
    "        N = soup.find(class_='summary').span.string\n",
    "        \n",
    "        ministeries_count.append((ministerie, int(N)))\n",
    "\n",
    "    return ministeries_count"
   ]
  },
  {
   "cell_type": "code",
   "execution_count": 6,
   "metadata": {},
   "outputs": [
    {
     "name": "stdout",
     "output_type": "stream",
     "text": [
      "Extracting links to Wob-pages...\n"
     ]
    },
    {
     "data": {
      "application/vnd.jupyter.widget-view+json": {
       "model_id": "9ff297c71fac4f60bb47d628d88c1a39",
       "version_major": 2,
       "version_minor": 0
      },
      "text/plain": [
       "  0%|          | 0/12 [00:00<?, ?it/s]"
      ]
     },
     "metadata": {},
     "output_type": "display_data"
    },
    {
     "name": "stdout",
     "output_type": "stream",
     "text": [
      "Reading Wobs, extracting metadata...\n"
     ]
    },
    {
     "data": {
      "application/vnd.jupyter.widget-view+json": {
       "model_id": "dbb96463286c4423a7e48eee2b7ec3dc",
       "version_major": 2,
       "version_minor": 0
      },
      "text/plain": [
       "  0%|          | 0/2703 [00:00<?, ?it/s]"
      ]
     },
     "metadata": {},
     "output_type": "display_data"
    },
    {
     "name": "stdout",
     "output_type": "stream",
     "text": [
      "Status code is 429. Trying again in a minute...\n",
      "Status code is 429. Trying again in a minute...\n",
      "Status code is 429. Trying again in a minute...\n",
      "Status code is 429. Trying again in a minute...\n",
      "Status code is 429. Trying again in a minute...\n",
      "Status code is 429. Trying again in a minute...\n",
      "Status code is 429. Trying again in a minute...\n",
      "Status code is 429. Trying again in a minute...\n",
      "Status code is 429. Trying again in a minute...\n",
      "Status code is 429. Trying again in a minute...\n",
      "Status code is 429. Trying again in a minute...\n",
      "Status code is 429. Trying again in a minute...\n",
      "Status code is 429. Trying again in a minute...\n",
      "Status code is 429. Trying again in a minute...\n",
      "Status code is 429. Trying again in a minute...\n",
      "Status code is 429. Trying again in a minute...\n",
      "Status code is 429. Trying again in a minute...\n",
      "Status code is 429. Trying again in a minute...\n"
     ]
    }
   ],
   "source": [
    "def read_all_wobs():\n",
    "\n",
    "    search_link = \"https://www.rijksoverheid.nl/documenten?type=Wob-verzoek\"\n",
    "    ministeries = get_ministeries()\n",
    "\n",
    "    print(\"Extracting links to Wob-pages...\")\n",
    "    wob_links = []\n",
    "    for ministerie, number_wobs in tqdm(ministeries):\n",
    "        pages = ceil(number_wobs / 10)\n",
    "\n",
    "        search_link_min = search_link + f'&onderdeel={ministerie.replace(\" \", \"+\")}' + '&pagina='\n",
    "        min_wobs = get_wob_links(search_link_min, pages)\n",
    "        for wob in min_wobs:\n",
    "            wob_links.append(wob)\n",
    "\n",
    "    print(\"Reading Wobs, extracting metadata...\")\n",
    "    wob_meta = []\n",
    "    for wob in tqdm(wob_links):\n",
    "        wob_meta.append(read_wob(wob))\n",
    "\n",
    "    return wob_meta\n",
    "\n",
    "wob_meta = read_all_wobs()"
   ]
  },
  {
   "cell_type": "code",
   "execution_count": 7,
   "metadata": {},
   "outputs": [],
   "source": [
    "df = pd.DataFrame(wob_meta)\n",
    "\n",
    "df.to_csv('wobs_rijksoverheid.csv')"
   ]
  },
  {
   "cell_type": "code",
   "execution_count": 1,
   "metadata": {},
   "outputs": [
    {
     "name": "stderr",
     "output_type": "stream",
     "text": [
      "'wget' is not recognized as an internal or external command,\n",
      "operable program or batch file.\n"
     ]
    }
   ],
   "source": []
  },
  {
   "cell_type": "code",
   "execution_count": 4,
   "metadata": {},
   "outputs": [
    {
     "data": {
      "text/plain": [
       "'../data/Bijlage+3+Dolfinarium.pdf'"
      ]
     },
     "execution_count": 4,
     "metadata": {},
     "output_type": "execute_result"
    }
   ],
   "source": [
    "wget.download('https://www.rijksoverheid.nl/binaries/rijksoverheid/documenten/wob-verzoeken/2021/06/29/besluit-op-een-wob-verzoek-over-adviesopdracht-visitatiecommissie-van-het-dolfinarium-harderwijk/Bijlage+3+Dolfinarium.pdf', '../data')"
   ]
  },
  {
   "cell_type": "code",
   "execution_count": 16,
   "metadata": {},
   "outputs": [],
   "source": [
    "def get_doc_type(doclink):\n",
    "\n",
    "    prefix = 'https://www.rijksoverheid.nl/binaries/rijksoverheid/documenten/wob-verzoeken'\n",
    "    doclink = doclink.lower().strip(prefix)\n",
    "    \n",
    "    options = {'Inventaris': ['inventaris'], 'Bijlage': ['bijlage', 'document', 'agenda', 'verslag'], 'Besluit': ['besluit', 'beslissing']}\n",
    "    \n",
    "    for option in options:\n",
    "        for keyword in options[option]:\n",
    "            if keyword in doclink:\n",
    "                return option\n",
    "\n",
    "    return 'Niet herkend'"
   ]
  },
  {
   "cell_type": "code",
   "execution_count": 37,
   "metadata": {},
   "outputs": [
    {
     "data": {
      "application/vnd.jupyter.widget-view+json": {
       "model_id": "e7992dc988f84487a6e5ad40f010fe0b",
       "version_major": 2,
       "version_minor": 0
      },
      "text/plain": [
       "0it [00:00, ?it/s]"
      ]
     },
     "metadata": {},
     "output_type": "display_data"
    }
   ],
   "source": [
    "def download_doc(doc_link, export_dir):\n",
    "\n",
    "    try:\n",
    "        wget.download(doc_link, export_dir)\n",
    "    except:\n",
    "        time.sleep(60)\n",
    "        download_doc(doc_link, export_dir)\n",
    "\n",
    "def get_documents(csv_file, export_dir):\n",
    "    \"\"\"\n",
    "    Extracts all Inventaris documents\n",
    "    \"\"\"\n",
    "    df = pd.read_csv(csv_file)\n",
    "    df['pdfs'] = df['pdfs'].map(lambda x: x.strip(\"][\").split(', '))\n",
    "\n",
    "    for idx, wob in tqdm(df.iterrows()):  \n",
    "\n",
    "        date_string = str(wob['datum']).replace('/', '-')\n",
    "        \n",
    "        for doc_link in wob['pdfs']:\n",
    "            doc_link = doc_link.strip(\"'\")\n",
    "            doc_type = get_doc_type(doc_link)\n",
    "\n",
    "            if doc_type == 'Inventaris':\n",
    "                # try:\n",
    "                #     os.makedirs(f\"{export_dir}/{wob['titel']} {date_string}/{doc_type}\")\n",
    "                # except FileExistsError:\n",
    "                #     pass\n",
    "                    \n",
    "                download_doc(doc_link, export_dir)\n",
    "                \n",
    "\n",
    "get_documents('../data/wobs_rijksoverheid.csv', 'D:/School/wobs')"
   ]
  },
  {
   "cell_type": "code",
   "execution_count": 24,
   "metadata": {},
   "outputs": [
    {
     "data": {
      "text/plain": [
       "'2021-11-29'"
      ]
     },
     "execution_count": 24,
     "metadata": {},
     "output_type": "execute_result"
    }
   ],
   "source": [
    "'2021/11/29'.replace('/', '-')"
   ]
  },
  {
   "cell_type": "code",
   "execution_count": null,
   "metadata": {},
   "outputs": [],
   "source": []
  }
 ],
 "metadata": {
  "interpreter": {
   "hash": "44818db9d31326dcabf41a90a5a68dcb98abd159235ef8aa2f78d9cc3f591953"
  },
  "kernelspec": {
   "display_name": "Python 3.9.10 64-bit (windows store)",
   "language": "python",
   "name": "python3"
  },
  "language_info": {
   "codemirror_mode": {
    "name": "ipython",
    "version": 3
   },
   "file_extension": ".py",
   "mimetype": "text/x-python",
   "name": "python",
   "nbconvert_exporter": "python",
   "pygments_lexer": "ipython3",
   "version": "3.9.10"
  },
  "orig_nbformat": 4
 },
 "nbformat": 4,
 "nbformat_minor": 2
}
