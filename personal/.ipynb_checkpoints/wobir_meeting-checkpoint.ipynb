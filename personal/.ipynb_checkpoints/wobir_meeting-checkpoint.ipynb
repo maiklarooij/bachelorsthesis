{
 "cells": [
  {
   "cell_type": "markdown",
   "metadata": {
    "slideshow": {
     "slide_type": "slide"
    }
   },
   "source": [
    "## Maik Larooij\n",
    "\n",
    "- Information Sciences\n",
    "- Interested in big data, data engineering, data science, programming\n",
    "- Working as a BI-developer on presenting and visualising data\n",
    "\n",
    "> \"Creating order in the chaos\""
   ]
  },
  {
   "cell_type": "markdown",
   "metadata": {
    "slideshow": {
     "slide_type": "slide"
    }
   },
   "source": [
    "### Project: from chaos to order!\n",
    "\n",
    "Chaos: \n",
    "- Wobs all contain different types of information, but there seems to be no general rule on what to provide\n",
    "- Hard to extract: at least 13 possible ways of representing a \"weigeringsgrond\" (ground for refusal)\n",
    "- Inventory tables provided in all possible colorways and layouts, varying in quality of information\n",
    "\n",
    "![inventaris voorbeeld](inventaris_example.png)"
   ]
  },
  {
   "cell_type": "code",
   "execution_count": 1,
   "metadata": {
    "slideshow": {
     "slide_type": "subslide"
    }
   },
   "outputs": [],
   "source": [
    "grounds = [\"weigeringsgrond\", \"artikelwob\", \"wob\", \"beslissingconform\", \"wobgrond\", \"uitzonderingsgrond\", \"artikel\", \"wobartikel\", \"weigeringsgrondwob\", \"weigeringsgronden\",\n",
    "\"lakgrond\", \"relevantewobgronden\", \"grond\"]"
   ]
  },
  {
   "cell_type": "markdown",
   "metadata": {
    "slideshow": {
     "slide_type": "slide"
    }
   },
   "source": [
    "### Some progress"
   ]
  },
  {
   "cell_type": "code",
   "execution_count": 6,
   "metadata": {
    "slideshow": {
     "slide_type": "subslide"
    }
   },
   "outputs": [],
   "source": [
    "example = {\n",
    "    \"id\": \"UT-201\",\n",
    "    \"titel\": \"2021-0790 Wob-besluit betreft demonstratie Waku Waku\",\n",
    "    \"verantwoordelijk\": \"Gemeente Utrecht\",\n",
    "    \"datum_ingediend\": \"07-10-2021\",\n",
    "    \"datum_besluit\": \"01-02-2022\",\n",
    "    \"beschrijving\": \"De burgemeester heeft op 2 februari 2022 beslist op een Wob-verzoek van een inwoner. In het Wob-verzoek wordt verzocht om alle documenten in het bezit van de gemeente die betrekking hebben op de demonstraties bij Waku Waku. Tevens wordt er verzocht om alle processtukken van de voorlopige voorziening, waaronder de dagvaarding, bezwaarschrift, verweerschriften, pleitnota's van beide partijen en het proces-verbaal van de politie waar in de zaak naar verwezen wordt.\",\n",
    "    \"besluit\": \"Deels openbaar\",\n",
    "    \"verdaagd\": True,\n",
    "    \"thema\": \"Wob-verzoeken vrije tijd\",\n",
    "    \"geografisch_gebied\": \"Utrecht\",\n",
    "    \"documenten\": [\n",
    "        {\n",
    "            \"document_nr\": 1,\n",
    "            \"bestandsnaam\": \"Wob-verzoek.pdf\",\n",
    "            \"bestandstype\": \"PDF\",\n",
    "            \"documenttype\": \"Verzoek\",\n",
    "            \"url\": \"https://www.utrecht.nl/fileadmin/uploads/documenten/7.extern/wob/2021/2021-0790_Waku_Waku/Wob-verzoek.pdf\",\n",
    "            \"paginas\": 3,\n",
    "            \"download_datum\": \"03-03-2022\",\n",
    "            \"scan\": True\n",
    "        },\n",
    "        {\n",
    "            \"document_nr\": 2,\n",
    "            \"bestandsnaam\": \"20211019170012_ Gespreksverslag advocate van restauranthouder1.pdf\",\n",
    "            \"bestandstype\": \"PDF\",\n",
    "            \"documenttype\": \"Gespreksverslag\",\n",
    "            \"titel\": \"Gespreksverslag advocate restauranthouder\",\n",
    "            \"url\": \"https://www.utrecht.nl/fileadmin/uploads/documenten/7.extern/wob/2021/2021-0790_Waku_Waku/Bijlagen.pdf\",\n",
    "            \"paginas\": 3,\n",
    "            \"download_datum\": \"03-03-2022\",\n",
    "            \"type_vrijgegeven_document\": \"E-Mail\",\n",
    "            \"beoordeling\": \"Deels openbaar\",\n",
    "            \"weigeringsgrond\": [\n",
    "                \"10.2.e\"\n",
    "            ],\n",
    "            \"datum\": \"29-09-2021\"\n",
    "        }\n",
    "    ]\n",
    "}"
   ]
  },
  {
   "cell_type": "markdown",
   "metadata": {
    "slideshow": {
     "slide_type": "slide"
    }
   },
   "source": [
    "### Validation"
   ]
  },
  {
   "cell_type": "code",
   "execution_count": 7,
   "metadata": {
    "slideshow": {
     "slide_type": "subslide"
    }
   },
   "outputs": [],
   "source": [
    "schema = {\n",
    "    \"$schema\": \"http://json-schema.org/draft-07/schema#\",\n",
    "    \"$id\": \"/schemas/wob\",\n",
    "    \"title\": \"Wob-verzoek\",\n",
    "    \"description\": \"Defines a schema to represent a Wob-verzoek\",\n",
    "    \"type\": \"object\",\n",
    "    \n",
    "    \"properties\": {\n",
    "        \"id\": {\"type\": [\"integer\", \"string\"]},\n",
    "        \"titel\": {\"type\": \"string\"},\n",
    "        \"verantwoordelijk\": {\"type\": \"string\"},\n",
    "        \"datum_ingediend\": {\"type\": \"string\", \"format\": \"date\", \"pattern\": \"[0-9]{2}-[0-9]{2}-[0-9]{4}\"},\n",
    "        \"datum_besluit\": {\"type\": \"string\", \"format\": \"date\", \"pattern\": \"[0-9]{2}-[0-9]{2}-[0-9]{4}\"},\n",
    "        \"beoordeling\": {\"type\": \"string\", \"enum\": [\"Openbaar\", \"Deels openbaar\", \"Reeds openbaar\", \"Niet openbaar\"]},\n",
    "        \"verdaagd\": {\"type\": \"boolean\"},\n",
    "        \"beschrijving\": {\"type\": \"string\"},\n",
    "        \"intern_id\": {\"type\": [\"integer\", \"string\"]},\n",
    "        \"verzoeker\": {\"type\": \"string\"},\n",
    "        \"geografisch_gebied\": {\"type\": \"string\"},\n",
    "        \"bag_id\": {\"type\": \"integer\"},\n",
    "        \"bgt_id\": {\"type\": \"integer\"},\n",
    "        \"longitude\": {\"type\": \"number\", \"minimum\": -180, \"maximum\": 180},\n",
    "        \"latitude\": {\"type\": \"number\", \"minimum\": -90, \"maximum\": 90},\n",
    "        \"postcodegebied\": {\"type\": \"integer\", \"minimum\": 1000, \"maximum\": 9999},\n",
    "        \"aantal_vrijgegeven_documenten\": {\"type\": \"integer\"},\n",
    "        \"documenten\": {\"type\": \"array\", \"items\": {\"$ref\": \"#/$defs/document\"}}\n",
    "    },\n",
    "\n",
    "    \"required\": [\"id\", \"titel\", \"verantwoordelijk\", \"datum_ingediend\", \"datum_besluit\", \"beoordeling\", \"verdaagd\"]\n",
    "}"
   ]
  }
 ],
 "metadata": {
  "celltoolbar": "Slideshow",
  "kernelspec": {
   "display_name": "Python 3",
   "language": "python",
   "name": "python3"
  },
  "language_info": {
   "codemirror_mode": {
    "name": "ipython",
    "version": 3
   },
   "file_extension": ".py",
   "mimetype": "text/x-python",
   "name": "python",
   "nbconvert_exporter": "python",
   "pygments_lexer": "ipython3",
   "version": "3.7.4"
  }
 },
 "nbformat": 4,
 "nbformat_minor": 2
}
